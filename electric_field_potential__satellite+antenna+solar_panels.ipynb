{
  "nbformat": 4,
  "nbformat_minor": 0,
  "metadata": {
    "colab": {
      "provenance": [],
      "collapsed_sections": [
        "PPq3Mibhcji-"
      ],
      "authorship_tag": "ABX9TyM5254AQwKvR9sunjMPhuCS"
    },
    "kernelspec": {
      "name": "python3",
      "display_name": "Python 3"
    },
    "language_info": {
      "name": "python"
    }
  },
  "cells": [
    {
      "cell_type": "markdown",
      "source": [
        "#Усложнение внутренней границы (многосеточный алгоритм)"
      ],
      "metadata": {
        "id": "5EeqZ7cX8TIx"
      }
    },
    {
      "cell_type": "markdown",
      "source": [
        "Расчёт потенциала электрического поля вокруг спутника после размещения на кубсате мини-солнечных батарей (10 x 10) и штанги антенны (14 см, под углом 30 градусов, диаметром пренебречь)."
      ],
      "metadata": {
        "id": "Emo_ALx48YWr"
      }
    },
    {
      "cell_type": "markdown",
      "source": [
        "![image.png](data:image/png;base64,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)"
      ],
      "metadata": {
        "id": "rhvJaTQ-8kC4"
      }
    },
    {
      "cell_type": "markdown",
      "source": [
        "Алгоритм использует две сетки: одна с шагом 1 см (крупная), вторая с шагом 2 мм (мелкая, у поверхности спутника). Внешняя граница мелкой сетки на расстоянии 0,5 метра от спутника. При этом внутренние граничные узлы двух сеток будут совпадать везде, кроме штанги. Для нахождения значений в нерегулярных узлах применяется линейная интерполяция."
      ],
      "metadata": {
        "id": "ZIqp9-mT8r7S"
      }
    },
    {
      "cell_type": "code",
      "source": [
        "import numpy as np\n",
        "import matplotlib.pyplot as plt"
      ],
      "metadata": {
        "id": "G-tSt7l0R8Jk"
      },
      "execution_count": 1,
      "outputs": []
    },
    {
      "cell_type": "code",
      "source": [
        "field_size_large_grid = 100\n",
        "number_of_nodes_large_grid = field_size_large_grid + 1\n",
        "step_large_grid = 1"
      ],
      "metadata": {
        "id": "Nt--qE09R_f7"
      },
      "execution_count": 2,
      "outputs": []
    },
    {
      "cell_type": "code",
      "source": [
        "field_size_fine_grid = 100\n",
        "number_of_nodes_fine_grid = field_size_large_grid * 5 + 1\n",
        "step_fine_grid = field_size_fine_grid / (number_of_nodes_fine_grid - 1)"
      ],
      "metadata": {
        "id": "STKKAZEj5R7p"
      },
      "execution_count": 3,
      "outputs": []
    },
    {
      "cell_type": "code",
      "source": [
        "satellite_radius = 5"
      ],
      "metadata": {
        "id": "g-kct03LSt47"
      },
      "execution_count": 4,
      "outputs": []
    },
    {
      "cell_type": "code",
      "source": [
        "antenna_length = 14\n",
        "angle = np.radians(60)"
      ],
      "metadata": {
        "id": "ydtbhXmDWL7R"
      },
      "execution_count": 5,
      "outputs": []
    },
    {
      "cell_type": "code",
      "source": [
        "battery_size = 10"
      ],
      "metadata": {
        "id": "PY7hn3E-Z2Y2"
      },
      "execution_count": 6,
      "outputs": []
    },
    {
      "cell_type": "markdown",
      "source": [
        "###Граничные условия"
      ],
      "metadata": {
        "id": "f9FS8hVySMaD"
      }
    },
    {
      "cell_type": "code",
      "source": [
        "satellite_surface_potential = 10"
      ],
      "metadata": {
        "id": "eYbVmAJmSROL"
      },
      "execution_count": 7,
      "outputs": []
    },
    {
      "cell_type": "markdown",
      "source": [
        "###Создание сеток"
      ],
      "metadata": {
        "id": "8XFqC2ZnS9Ib"
      }
    },
    {
      "cell_type": "code",
      "source": [
        "U_coarse = np.zeros((number_of_nodes_large_grid, number_of_nodes_large_grid))\n",
        "satellite_center_index_coarse = number_of_nodes_large_grid // 2"
      ],
      "metadata": {
        "id": "8ZU7cqLuau4t"
      },
      "execution_count": 8,
      "outputs": []
    },
    {
      "cell_type": "code",
      "source": [
        "U_fine = np.zeros((number_of_nodes_fine_grid, number_of_nodes_fine_grid))\n",
        "satellite_center_index_fine = number_of_nodes_fine_grid // 2"
      ],
      "metadata": {
        "id": "-wRXtCEnbc4U"
      },
      "execution_count": 9,
      "outputs": []
    },
    {
      "cell_type": "markdown",
      "source": [
        "###Начальные координаты положения антенны"
      ],
      "metadata": {
        "id": "lUUqlklWGksb"
      }
    },
    {
      "cell_type": "code",
      "source": [
        "antenna_start_x_fine = satellite_center_index_fine + int(satellite_radius * (step_large_grid / step_fine_grid))\n",
        "antenna_start_y_fine = satellite_center_index_fine + int(satellite_radius * (step_large_grid / step_fine_grid))"
      ],
      "metadata": {
        "id": "S9xchWxFGtdi"
      },
      "execution_count": 10,
      "outputs": []
    },
    {
      "cell_type": "markdown",
      "source": [
        "###Линейная интерполяция значений в нерегулярных узлах (в узлах расположения антенны)"
      ],
      "metadata": {
        "id": "PPq3Mibhcji-"
      }
    },
    {
      "cell_type": "code",
      "source": [
        "def linear_interpolation(U_coarse, U_fine, step_large_grid, step_fine_grid, antenna_start_x, antenna_start_y, angle, antenna_length):\n",
        "    for k in range(int(antenna_length / step_fine_grid)):\n",
        "\n",
        "        i_fine = int(antenna_start_x + k * np.cos(angle))\n",
        "        j_fine = int(antenna_start_y + k * np.sin(angle))\n",
        "\n",
        "        if 0 < i_fine < number_of_nodes_fine_grid and 0 < j_fine < number_of_nodes_fine_grid:\n",
        "            x_fine = i_fine * step_fine_grid\n",
        "            y_fine = j_fine * step_fine_grid\n",
        "\n",
        "            x_coarse = x_fine / step_large_grid\n",
        "            y_coarse = y_fine / step_large_grid\n",
        "\n",
        "            i_coarse = int(x_coarse)\n",
        "            j_coarse = int(y_coarse)\n",
        "\n",
        "            if i_coarse < number_of_nodes_large_grid - 1 and j_coarse < number_of_nodes_large_grid - 1:\n",
        "                U_fine[i_fine, j_fine] = 0.25 * (U_coarse[i_coarse, j_coarse] + U_coarse[i_coarse + 1, j_coarse] +\n",
        "                                                 U_coarse[i_coarse, j_coarse + 1] + U_coarse[i_coarse + 1, j_coarse + 1])\n",
        "\n",
        "    return U_fine"
      ],
      "metadata": {
        "id": "BvujIHnIc3mP"
      },
      "execution_count": 11,
      "outputs": []
    },
    {
      "cell_type": "markdown",
      "source": [
        "###Расчёт потенциала"
      ],
      "metadata": {
        "id": "qIuk5uQKTVI7"
      }
    },
    {
      "cell_type": "code",
      "source": [
        "max_iter = 10000\n",
        "accuracy = 1e-4"
      ],
      "metadata": {
        "id": "9XkUUrauEDyB"
      },
      "execution_count": 12,
      "outputs": []
    },
    {
      "cell_type": "code",
      "source": [
        "def is_circle_satellite(x, y, satellite_center, satellite_radius):\n",
        "  inside_satellite_circle_radius = np.sqrt((i - satellite_center)**2 + (j - satellite_center)**2)\n",
        "\n",
        "  return inside_satellite_circle_radius < satellite_radius"
      ],
      "metadata": {
        "id": "eRNi4KayESBX"
      },
      "execution_count": 13,
      "outputs": []
    },
    {
      "cell_type": "code",
      "source": [
        "def square_area_side_distance(satellite_radius, satellite_center, satellite_surface_potential):\n",
        "   square_area_side_distance = satellite_surface_potential * satellite_radius / np.sqrt(satellite_center * satellite_center + (i - satellite_radius) ** 2)\n",
        "\n",
        "   return square_area_side_distance"
      ],
      "metadata": {
        "id": "LzJsYfViJeUx"
      },
      "execution_count": 14,
      "outputs": []
    },
    {
      "cell_type": "code",
      "source": [
        "def is_square_satellite_surface(x, y, satellite_center, satellite_radius):\n",
        "  y_distance = abs(i - satellite_center)\n",
        "  x_distance = abs(j - satellite_center)\n",
        "\n",
        "  return y_distance == satellite_radius or x_distance == satellite_radius"
      ],
      "metadata": {
        "id": "nvJKZiSkG51C"
      },
      "execution_count": 15,
      "outputs": []
    },
    {
      "cell_type": "code",
      "source": [
        "def find_potential_around_antenna(satellite_center, satellite_radius, antenna_length, angle, satellite_surface_potential, U_coarse):\n",
        "  antenna_start_x = satellite_center + satellite_radius\n",
        "  antenna_start_y = satellite_center + satellite_radius\n",
        "\n",
        "  for k in range(int(antenna_length / step_large_grid)):\n",
        "      i = int(antenna_start_x + k * np.cos(angle))\n",
        "      j = int(antenna_start_y + k * np.sin(angle))\n",
        "\n",
        "      if 0 <= i < number_of_nodes_large_grid and 0 <= j < number_of_nodes_large_grid:\n",
        "            U_coarse[i, j] = satellite_surface_potential\n",
        "\n",
        "  return U_coarse"
      ],
      "metadata": {
        "id": "M5uy1r2RZRO8"
      },
      "execution_count": 16,
      "outputs": []
    },
    {
      "cell_type": "code",
      "source": [
        "def find_potential_around_right_battery(satellite_center_index_coarse, satellite_radius, battery_size, satellite_surface_potential, U_coarse):\n",
        "  for i in range(satellite_center_index_coarse - satellite_radius, satellite_center_index_coarse + satellite_radius + 1):\n",
        "        for j in range(satellite_center_index_coarse + satellite_radius + 1, satellite_center_index_coarse + satellite_radius + battery_size + 1):\n",
        "            if abs(i - satellite_center_index_coarse) == satellite_radius or abs(j - (satellite_center_index_coarse + battery_size)) == satellite_radius:\n",
        "                U_coarse[i,j] = satellite_surface_potential\n",
        "            else:\n",
        "                U_coarse[i,j] = 0\n",
        "\n",
        "  return U_coarse"
      ],
      "metadata": {
        "id": "ogzpX7es6Y6o"
      },
      "execution_count": 17,
      "outputs": []
    },
    {
      "cell_type": "code",
      "source": [
        "def find_potential_around_left_battery(satellite_center_index_coarse, satellite_radius, battery_size, satellite_surface_potential, U_coarse):\n",
        "  for i in range(satellite_center_index_coarse - satellite_radius, satellite_center_index_coarse + satellite_radius + 1):\n",
        "        for j in range(satellite_center_index_coarse - satellite_radius - battery_size,  satellite_center_index_coarse - satellite_radius):\n",
        "            if abs(i - satellite_center_index_coarse) == satellite_radius or abs(j - (satellite_center_index_coarse - battery_size)) == satellite_radius:\n",
        "                U_coarse[i,j] = satellite_surface_potential\n",
        "            else:\n",
        "                U_coarse[i,j] = 0\n",
        "\n",
        "  return U_coarse"
      ],
      "metadata": {
        "id": "07d3obxI5AUQ"
      },
      "execution_count": 18,
      "outputs": []
    },
    {
      "cell_type": "code",
      "source": [
        "def find_potential_around_bottom_battery(satellite_center_index_coarse, satellite_radius, battery_size, satellite_surface_potential, U_coarse):\n",
        "  for i in range(satellite_center_index_coarse - satellite_radius - battery_size, satellite_center_index_coarse - satellite_radius):\n",
        "        for j in range(satellite_center_index_coarse - satellite_radius, satellite_center_index_coarse + satellite_radius + 1):\n",
        "            if abs(i - (satellite_center_index_coarse - battery_size)) == satellite_radius or abs(j - satellite_center_index_coarse) == satellite_radius:\n",
        "                U_coarse[i,j] = satellite_surface_potential\n",
        "            else:\n",
        "                U_coarse[i,j] = 0\n",
        "\n",
        "  return U_coarse"
      ],
      "metadata": {
        "id": "hT9zUvRD89UZ"
      },
      "execution_count": 19,
      "outputs": []
    },
    {
      "cell_type": "code",
      "source": [
        "def find_potential_around_top_battery(satellite_center_index_coarse, satellite_radius, battery_size, satellite_surface_potential, U_coarse):\n",
        "  for i in range(satellite_center_index_coarse + satellite_radius, satellite_center_index_coarse + satellite_radius + battery_size + 1):\n",
        "        for j in range(satellite_center_index_coarse - satellite_radius, satellite_center_index_coarse + satellite_radius + 1):\n",
        "            if abs(i - (satellite_center_index_coarse + battery_size)) == satellite_radius or abs(j - satellite_center_index_coarse) == satellite_radius:\n",
        "                U_coarse[i,j] = satellite_surface_potential\n",
        "            else:\n",
        "                U_coarse[i,j] = 0\n",
        "\n",
        "  return U_coarse"
      ],
      "metadata": {
        "id": "qAokv9od9mVT"
      },
      "execution_count": 20,
      "outputs": []
    },
    {
      "cell_type": "code",
      "source": [
        "for iteration in range(max_iter):\n",
        "    U_prev = U_coarse.copy()\n",
        "\n",
        "    for i in range(1, number_of_nodes_large_grid - 1):\n",
        "        for j in range(1, number_of_nodes_large_grid - 1):\n",
        "            if is_circle_satellite(j, i, satellite_center_index_coarse, satellite_radius):\n",
        "                pass\n",
        "            else:\n",
        "                U_coarse[i, j] = 0.25 * (U_prev[i + 1, j] + U_prev[i - 1, j] +\n",
        "                                  U_prev[i, j + 1] + U_prev[i, j - 1])\n",
        "\n",
        "    for i in range(satellite_center_index_coarse - satellite_radius, satellite_center_index_coarse + satellite_radius + 1):\n",
        "        for j in range(satellite_center_index_coarse - satellite_radius, satellite_center_index_coarse + satellite_radius + 1):\n",
        "            if is_square_satellite_surface(j, i, satellite_center_index_coarse, satellite_radius):\n",
        "                U_coarse[i, j] = satellite_surface_potential\n",
        "            else:\n",
        "                U_coarse[i, j] = 0\n",
        "\n",
        "    U_coarse = find_potential_around_antenna(satellite_center_index_coarse, satellite_radius, antenna_length, angle, satellite_surface_potential, U_coarse)\n",
        "\n",
        "    U_coarse = find_potential_around_right_battery(satellite_center_index_coarse, satellite_radius, battery_size, satellite_surface_potential, U_coarse)\n",
        "\n",
        "    U_coarse = find_potential_around_left_battery(satellite_center_index_coarse, satellite_radius, battery_size, satellite_surface_potential, U_coarse)\n",
        "\n",
        "    U_coarse = find_potential_around_bottom_battery(satellite_center_index_coarse, satellite_radius, battery_size, satellite_surface_potential, U_coarse)\n",
        "\n",
        "    U_coarse = find_potential_around_top_battery(satellite_center_index_coarse, satellite_radius, battery_size, satellite_surface_potential, U_coarse)\n",
        "\n",
        "    for i in range(number_of_nodes_large_grid):\n",
        "        U_coarse[0, i] = U_coarse[number_of_nodes_large_grid-1, i] = U_coarse[i, 0] = U_coarse[i, number_of_nodes_large_grid-1] = satellite_radius * satellite_surface_potential / np.sqrt(satellite_center_index_coarse * satellite_center_index_coarse + (i - satellite_center_index_coarse) ** 2)\n",
        "\n",
        "    if np.max(np.abs(U_coarse - U_prev)) < accuracy:\n",
        "        print(f\"Требуется {iteration} итераций\")\n",
        "        break"
      ],
      "metadata": {
        "id": "maVJDIePl6CE",
        "colab": {
          "base_uri": "https://localhost:8080/"
        },
        "outputId": "6e69a9c0-b62b-4338-e8dc-1bc42f893aee"
      },
      "execution_count": 21,
      "outputs": [
        {
          "output_type": "stream",
          "name": "stdout",
          "text": [
            "Требуется 3095 итераций\n"
          ]
        }
      ]
    },
    {
      "cell_type": "markdown",
      "source": [
        "###Нахождение значений в нерегулярных узлах"
      ],
      "metadata": {
        "id": "KkHxutSGG9VE"
      }
    },
    {
      "cell_type": "code",
      "source": [
        "U_fine_antenna = linear_interpolation(U_coarse, np.zeros_like(U_fine), step_large_grid, step_fine_grid, antenna_start_x_fine, antenna_start_y_fine, angle, antenna_length)"
      ],
      "metadata": {
        "id": "fNeDgmSjCErj"
      },
      "execution_count": 22,
      "outputs": []
    },
    {
      "cell_type": "markdown",
      "source": [
        "###Перенос данных с крупной сетки на мелкую"
      ],
      "metadata": {
        "id": "OGol2j0EIk3a"
      }
    },
    {
      "cell_type": "code",
      "source": [
        "for i in range(number_of_nodes_fine_grid):\n",
        "    for j in range(number_of_nodes_fine_grid):\n",
        "        x_coarse = i * step_fine_grid / step_large_grid\n",
        "        y_coarse = j * step_fine_grid / step_large_grid\n",
        "\n",
        "        if 0 <= x_coarse < number_of_nodes_fine_grid and 0 <= y_coarse < number_of_nodes_fine_grid:\n",
        "            U_fine[i, j] = U_coarse[int(x_coarse), int(y_coarse)]"
      ],
      "metadata": {
        "id": "vcM4ADoGIr9h"
      },
      "execution_count": 23,
      "outputs": []
    },
    {
      "cell_type": "markdown",
      "source": [
        "###Объединение значений в регулярных и нерегулярных узлах"
      ],
      "metadata": {
        "id": "zONRlWhLJTDF"
      }
    },
    {
      "cell_type": "code",
      "source": [
        "U_fine_combined = np.where(U_fine_antenna != 0, U_fine_antenna, U_fine)"
      ],
      "metadata": {
        "id": "mcrASzmrJQVf"
      },
      "execution_count": 24,
      "outputs": []
    },
    {
      "cell_type": "markdown",
      "source": [
        "###Визуализация"
      ],
      "metadata": {
        "id": "xvONZHr-Jbla"
      }
    },
    {
      "cell_type": "code",
      "source": [
        "plt.figure(figsize=(8, 6))\n",
        "plt.imshow(U_fine_combined)\n",
        "plt.colorbar(label='Потенциал (В)')\n",
        "plt.title('Распределение электрического потенциала вокруг спутника')\n",
        "plt.xlabel('x (см)')\n",
        "plt.ylabel('y (см)')\n",
        "plt.gca().invert_yaxis()\n",
        "plt.axis('equal')\n",
        "plt.show()"
      ],
      "metadata": {
        "colab": {
          "base_uri": "https://localhost:8080/",
          "height": 564
        },
        "id": "SijkpHofJgZG",
        "outputId": "33a3039b-ac60-44e3-f418-65495b63fcb7"
      },
      "execution_count": 25,
      "outputs": [
        {
          "output_type": "display_data",
          "data": {
            "text/plain": [
              "<Figure size 800x600 with 2 Axes>"
            ],
            "image/png": "[encoded data removed]"
          },
          "metadata": {}
        }
      ]
    }
  ]
}