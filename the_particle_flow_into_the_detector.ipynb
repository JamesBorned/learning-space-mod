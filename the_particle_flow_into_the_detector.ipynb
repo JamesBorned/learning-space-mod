{
  "nbformat": 4,
  "nbformat_minor": 0,
  "metadata": {
    "colab": {
      "provenance": [],
      "authorship_tag": "ABX9TyM7w6tKSy+MYueXEkIwoP6Z"
    },
    "kernelspec": {
      "name": "python3",
      "display_name": "Python 3"
    },
    "language_info": {
      "name": "python"
    }
  },
  "cells": [
    {
      "cell_type": "markdown",
      "source": [
        "#Расчет потока частиц в детекторе"
      ],
      "metadata": {
        "id": "fHQ4mvYNKzGQ"
      }
    },
    {
      "cell_type": "markdown",
      "source": [
        "Рассматривается простейший случай, когда плазма не движется относительно спутника (присутствует лишь хаотическое движение частиц)."
      ],
      "metadata": {
        "id": "pGvwNa4_K6ZA"
      }
    },
    {
      "cell_type": "code",
      "source": [
        "import numpy as np"
      ],
      "metadata": {
        "id": "OyucMdlOLv43"
      },
      "execution_count": 2,
      "outputs": []
    },
    {
      "cell_type": "code",
      "source": [
        "import numpy as np\n",
        "\n",
        "T = 5000  # Температура в Кельвинах\n",
        "alpha = np.deg2rad(10)  # Угол раствора коллиматора в радианах\n",
        "v1 = 2e3  # Нижний предел скорости в м/с\n",
        "v2 = 5e3  # Верхний предел скорости в м/с\n",
        "n = 1  # Концентрация ионов\n",
        "\n",
        "# Постоянные\n",
        "k = 1.380649e-23  # Постоянная Больцмана в Дж/К\n",
        "m = 1.6726219e-27  # Масса протона в кг\n",
        "mu_alpha = np.cos(alpha)\n",
        "\n",
        "# Функция распределения Максвелла\n",
        "def maxwell_distribution(v):\n",
        "    tmp = 4 * np.pi * v**2 * (m / (2 * np.pi * k * T))**1.5\n",
        "    return tmp * np.exp(-m * v**2 / (2 * k * T))\n",
        "\n",
        "# Численное интегрирование методом Симпсона\n",
        "def integrate_simpson(f, a, b, num_intervals):\n",
        "    if num_intervals % 2 != 0:\n",
        "        num_intervals += 1  # Метод Симпсона требует четного числа интервалов\n",
        "    dx = (b - a) / num_intervals\n",
        "    integral = f(a) + f(b)\n",
        "    for i in range(1, num_intervals):\n",
        "        x = a + i * dx\n",
        "        if i % 2 == 0:\n",
        "            integral += 2 * f(x)\n",
        "        else:\n",
        "            integral += 4 * f(x)\n",
        "    integral *= dx / 3\n",
        "    return integral\n",
        "\n",
        "# Подынтегральная функция для потока частиц\n",
        "def integrand(v, mu):\n",
        "    return n * maxwell_distribution(v) * v * mu\n",
        "\n",
        "# Вычисление потока\n",
        "def calculate_flux():\n",
        "    num_intervals_v = 1000  # Количество интервалов для интегрирования по скорости\n",
        "    num_intervals_mu = 1000  # Количество интервалов для интегрирования по углу\n",
        "\n",
        "    # Интегрирование от v1 до v2\n",
        "    flux_v = integrate_simpson(lambda v: integrand(v, 1), v1, v2, num_intervals_v)\n",
        "\n",
        "    # Интегрирование от mu_alpha до 1\n",
        "    flux_mu = integrate_simpson(lambda mu: flux_v, mu_alpha, 1, num_intervals_mu)\n",
        "\n",
        "    # Интегрирование от 0 до 2pi\n",
        "    total_flux = 2 * np.pi * flux_mu\n",
        "    return total_flux\n",
        "\n",
        "# Вычисление потока\n",
        "flux = calculate_flux()\n",
        "print(f\"Ионный поток: {flux}\")"
      ],
      "metadata": {
        "colab": {
          "base_uri": "https://localhost:8080/"
        },
        "id": "v8oeTH7PLKmU",
        "outputId": "17c6d606-3185-4686-9005-bd655a38d207"
      },
      "execution_count": 1,
      "outputs": [
        {
          "output_type": "stream",
          "name": "stdout",
          "text": [
            "Ионный поток: 35.65887799796224\n"
          ]
        }
      ]
    }
  ]
}